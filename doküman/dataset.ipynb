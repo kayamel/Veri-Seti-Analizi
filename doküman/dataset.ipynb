{
 "cells": [
  {
   "cell_type": "markdown",
   "metadata": {},
   "source": [
<h1>Python ile Veri Seti Analizi</h1>
<h3>Bu dokümanda train.csv dosyası analiz edilmiştir.  </h3>

# Analizde Kullanılan Kütüphaneler:

- Numpy

- Pandas

- Matplotlib

- Seaborn


# Veri Setlerine İlişkin Açıklamalar:

Dokümanda tek bir veri seti bulunmakta olup 891 satır 12 sütundan oluşmaktadır.


- Veri dosyasının içeriğinde çeşitli yolcu bilgileri bulunmaktadır. Bu bilgiler arasında yolcuların isimleri, cinsiyetleri, yaşları, sınıfları (bilet sınıfı), biniş yaptıkları limanlar (Embarked), bilet fiyatları (Fare) ve kabin numaraları gibi detaylar yer alıyor. 

# Elde Edilen Sonuçlar:

Elde edilen sonuçların bazıları aşağıda verilmiştir. Daha fazla detaya .ipynb uzantılı kod dosyasından erişebilirsiniz. 

![yas2](https://github.com/kayamel/Veri-Seti-Analizi/assets/148653111/efa2e4ed-a89f-41cc-904d-944c51aa554e)
![biletfiyat](https://github.com/kayamel/Veri-Seti-Analizi/assets/148653111/a9074cb4-8d2c-4706-9b67-a07114e17e12)
![cinsiyetdagilim](https://github.com/kayamel/Veri-Seti-Analizi/assets/148653111/4829ac66-aff0-460b-b0cb-f164fadc78b1)
![korelasyon](https://github.com/kayamel/Veri-Seti-Analizi/assets/148653111/05ca2e5f-485a-4f92-b9c2-7ddb661b9159)
![sinifdagilim](https://github.com/kayamel/Veri-Seti-Analizi/assets/148653111/21491c7a-be20-4be3-b72b-32ff0c3e856f)
![yas](https://github.com/kayamel/Veri-Seti-Analizi/assets/148653111/9ff267e9-5690-4953-ae64-dfa9e2c5dbf9)


    "Kütüphaneler import edilip, dosya okunup işlemler yapılmaya başlanmıştır."
   ]
  },
  {
   "cell_type": "code",
   "execution_count": 68,
   "metadata": {},
   "outputs": [],
   "source": [
    "#Kullanılmak üzere gerekli modülller sisteme dahil edilir:\n",
    "import numpy as np \n",
    "import pandas as pd \n",
    "import os\n",
    "import matplotlib.pyplot as plt\n",
    "import seaborn as sns\n",
    "import sys\n",
    "\n",
    "\n",
    "#Tüm dosyalar okunur:\n",
    "df= pd.read_csv(\"train.csv\")"
   ]
  },
  {
   "cell_type": "code",
   "execution_count": 10,
   "metadata": {},
   "outputs": [
    {
     "data": {
      "text/html": [
       "<div>\n",
       "<style scoped>\n",
       "    .dataframe tbody tr th:only-of-type {\n",
       "        vertical-align: middle;\n",
       "    }\n",
       "\n",
       "    .dataframe tbody tr th {\n",
       "        vertical-align: top;\n",
       "    }\n",
       "\n",
       "    .dataframe thead th {\n",
       "        text-align: right;\n",
       "    }\n",
       "</style>\n",
       "<table border=\"1\" class=\"dataframe\">\n",
       "  <thead>\n",
       "    <tr style=\"text-align: right;\">\n",
       "      <th></th>\n",
       "      <th>PassengerId</th>\n",
       "      <th>Survived</th>\n",
       "      <th>Pclass</th>\n",
       "      <th>Name</th>\n",
       "      <th>Sex</th>\n",
       "      <th>Age</th>\n",
       "      <th>SibSp</th>\n",
       "      <th>Parch</th>\n",
       "      <th>Ticket</th>\n",
       "      <th>Fare</th>\n",
       "      <th>Cabin</th>\n",
       "      <th>Embarked</th>\n",
       "    </tr>\n",
       "  </thead>\n",
       "  <tbody>\n",
       "    <tr>\n",
       "      <th>0</th>\n",
       "      <td>1</td>\n",
       "      <td>0</td>\n",
       "      <td>3</td>\n",
       "      <td>Braund, Mr. Owen Harris</td>\n",
       "      <td>male</td>\n",
       "      <td>22.0</td>\n",
       "      <td>1</td>\n",
       "      <td>0</td>\n",
       "      <td>A/5 21171</td>\n",
       "      <td>7.2500</td>\n",
       "      <td>NaN</td>\n",
       "      <td>S</td>\n",
       "    </tr>\n",
       "    <tr>\n",
       "      <th>1</th>\n",
       "      <td>2</td>\n",
       "      <td>1</td>\n",
       "      <td>1</td>\n",
       "      <td>Cumings, Mrs. John Bradley (Florence Briggs Th...</td>\n",
       "      <td>female</td>\n",
       "      <td>38.0</td>\n",
       "      <td>1</td>\n",
       "      <td>0</td>\n",
       "      <td>PC 17599</td>\n",
       "      <td>71.2833</td>\n",
       "      <td>C85</td>\n",
       "      <td>C</td>\n",
       "    </tr>\n",
       "    <tr>\n",
       "      <th>2</th>\n",
       "      <td>3</td>\n",
       "      <td>1</td>\n",
       "      <td>3</td>\n",
       "      <td>Heikkinen, Miss. Laina</td>\n",
       "      <td>female</td>\n",
       "      <td>26.0</td>\n",
       "      <td>0</td>\n",
       "      <td>0</td>\n",
       "      <td>STON/O2. 3101282</td>\n",
       "      <td>7.9250</td>\n",
       "      <td>NaN</td>\n",
       "      <td>S</td>\n",
       "    </tr>\n",
       "    <tr>\n",
       "      <th>3</th>\n",
       "      <td>4</td>\n",
       "      <td>1</td>\n",
       "      <td>1</td>\n",
       "      <td>Futrelle, Mrs. Jacques Heath (Lily May Peel)</td>\n",
       "      <td>female</td>\n",
       "      <td>35.0</td>\n",
       "      <td>1</td>\n",
       "      <td>0</td>\n",
       "      <td>113803</td>\n",
       "      <td>53.1000</td>\n",
       "      <td>C123</td>\n",
       "      <td>S</td>\n",
       "    </tr>\n",
       "    <tr>\n",
       "      <th>4</th>\n",
       "      <td>5</td>\n",
       "      <td>0</td>\n",
       "      <td>3</td>\n",
       "      <td>Allen, Mr. William Henry</td>\n",
       "      <td>male</td>\n",
       "      <td>35.0</td>\n",
       "      <td>0</td>\n",
       "      <td>0</td>\n",
       "      <td>373450</td>\n",
       "      <td>8.0500</td>\n",
       "      <td>NaN</td>\n",
       "      <td>S</td>\n",
       "    </tr>\n",
       "  </tbody>\n",
       "</table>\n",
       "</div>"
      ],
      "text/plain": [
       "   PassengerId  Survived  Pclass  \\\n",
       "0            1         0       3   \n",
       "1            2         1       1   \n",
       "2            3         1       3   \n",
       "3            4         1       1   \n",
       "4            5         0       3   \n",
       "\n",
       "                                                Name     Sex   Age  SibSp  \\\n",
       "0                            Braund, Mr. Owen Harris    male  22.0      1   \n",
       "1  Cumings, Mrs. John Bradley (Florence Briggs Th...  female  38.0      1   \n",
       "2                             Heikkinen, Miss. Laina  female  26.0      0   \n",
       "3       Futrelle, Mrs. Jacques Heath (Lily May Peel)  female  35.0      1   \n",
       "4                           Allen, Mr. William Henry    male  35.0      0   \n",
       "\n",
       "   Parch            Ticket     Fare Cabin Embarked  \n",
       "0      0         A/5 21171   7.2500   NaN        S  \n",
       "1      0          PC 17599  71.2833   C85        C  \n",
       "2      0  STON/O2. 3101282   7.9250   NaN        S  \n",
       "3      0            113803  53.1000  C123        S  \n",
       "4      0            373450   8.0500   NaN        S  "
      ]
     },
     "execution_count": 10,
     "metadata": {},
     "output_type": "execute_result"
    }
   ],
   "source": [
    "##İlk 5 satırı görmek için df.head() kullanılır\n",
    "df.head()\n"
   ]
  },
  {
   "cell_type": "markdown",
   "metadata": {},
   "source": [
    "#Son 5 satırı görmek için df.tail() kullanılır"
   ]
  },
  {
   "cell_type": "code",
   "execution_count": 5,
   "metadata": {},
   "outputs": [
    {
     "data": {
      "text/html": [
       "<div>\n",
       "<style scoped>\n",
       "    .dataframe tbody tr th:only-of-type {\n",
       "        vertical-align: middle;\n",
       "    }\n",
       "\n",
       "    .dataframe tbody tr th {\n",
       "        vertical-align: top;\n",
       "    }\n",
       "\n",
       "    .dataframe thead th {\n",
       "        text-align: right;\n",
       "    }\n",
       "</style>\n",
       "<table border=\"1\" class=\"dataframe\">\n",
       "  <thead>\n",
       "    <tr style=\"text-align: right;\">\n",
       "      <th></th>\n",
       "      <th>PassengerId</th>\n",
       "      <th>Survived</th>\n",
       "      <th>Pclass</th>\n",
       "      <th>Name</th>\n",
       "      <th>Sex</th>\n",
       "      <th>Age</th>\n",
       "      <th>SibSp</th>\n",
       "      <th>Parch</th>\n",
       "      <th>Ticket</th>\n",
       "      <th>Fare</th>\n",
       "      <th>Cabin</th>\n",
       "      <th>Embarked</th>\n",
       "    </tr>\n",
       "  </thead>\n",
       "  <tbody>\n",
       "    <tr>\n",
       "      <th>886</th>\n",
       "      <td>887</td>\n",
       "      <td>0</td>\n",
       "      <td>2</td>\n",
       "      <td>Montvila, Rev. Juozas</td>\n",
       "      <td>male</td>\n",
       "      <td>27.0</td>\n",
       "      <td>0</td>\n",
       "      <td>0</td>\n",
       "      <td>211536</td>\n",
       "      <td>13.00</td>\n",
       "      <td>NaN</td>\n",
       "      <td>S</td>\n",
       "    </tr>\n",
       "    <tr>\n",
       "      <th>887</th>\n",
       "      <td>888</td>\n",
       "      <td>1</td>\n",
       "      <td>1</td>\n",
       "      <td>Graham, Miss. Margaret Edith</td>\n",
       "      <td>female</td>\n",
       "      <td>19.0</td>\n",
       "      <td>0</td>\n",
       "      <td>0</td>\n",
       "      <td>112053</td>\n",
       "      <td>30.00</td>\n",
       "      <td>B42</td>\n",
       "      <td>S</td>\n",
       "    </tr>\n",
       "    <tr>\n",
       "      <th>888</th>\n",
       "      <td>889</td>\n",
       "      <td>0</td>\n",
       "      <td>3</td>\n",
       "      <td>Johnston, Miss. Catherine Helen \"Carrie\"</td>\n",
       "      <td>female</td>\n",
       "      <td>NaN</td>\n",
       "      <td>1</td>\n",
       "      <td>2</td>\n",
       "      <td>W./C. 6607</td>\n",
       "      <td>23.45</td>\n",
       "      <td>NaN</td>\n",
       "      <td>S</td>\n",
       "    </tr>\n",
       "    <tr>\n",
       "      <th>889</th>\n",
       "      <td>890</td>\n",
       "      <td>1</td>\n",
       "      <td>1</td>\n",
       "      <td>Behr, Mr. Karl Howell</td>\n",
       "      <td>male</td>\n",
       "      <td>26.0</td>\n",
       "      <td>0</td>\n",
       "      <td>0</td>\n",
       "      <td>111369</td>\n",
       "      <td>30.00</td>\n",
       "      <td>C148</td>\n",
       "      <td>C</td>\n",
       "    </tr>\n",
       "    <tr>\n",
       "      <th>890</th>\n",
       "      <td>891</td>\n",
       "      <td>0</td>\n",
       "      <td>3</td>\n",
       "      <td>Dooley, Mr. Patrick</td>\n",
       "      <td>male</td>\n",
       "      <td>32.0</td>\n",
       "      <td>0</td>\n",
       "      <td>0</td>\n",
       "      <td>370376</td>\n",
       "      <td>7.75</td>\n",
       "      <td>NaN</td>\n",
       "      <td>Q</td>\n",
       "    </tr>\n",
       "  </tbody>\n",
       "</table>\n",
       "</div>"
      ],
      "text/plain": [
       "     PassengerId  Survived  Pclass                                      Name  \\\n",
       "886          887         0       2                     Montvila, Rev. Juozas   \n",
       "887          888         1       1              Graham, Miss. Margaret Edith   \n",
       "888          889         0       3  Johnston, Miss. Catherine Helen \"Carrie\"   \n",
       "889          890         1       1                     Behr, Mr. Karl Howell   \n",
       "890          891         0       3                       Dooley, Mr. Patrick   \n",
       "\n",
       "        Sex   Age  SibSp  Parch      Ticket   Fare Cabin Embarked  \n",
       "886    male  27.0      0      0      211536  13.00   NaN        S  \n",
       "887  female  19.0      0      0      112053  30.00   B42        S  \n",
       "888  female   NaN      1      2  W./C. 6607  23.45   NaN        S  \n",
       "889    male  26.0      0      0      111369  30.00  C148        C  \n",
       "890    male  32.0      0      0      370376   7.75   NaN        Q  "
      ]
     },
     "execution_count": 5,
     "metadata": {},
     "output_type": "execute_result"
    }
   ],
   "source": [
    "df.tail()"
   ]
  },
  {
   "cell_type": "markdown",
   "metadata": {},
   "source": [
    "**Veri setinde toplamda kaç  satır ve kaç sütun var?**\n",
    "(**Satır ve sütun sayısı döngü kurmada önemlidir.**)"
   ]
  },
  {
   "cell_type": "code",
   "execution_count": 6,
   "metadata": {},
   "outputs": [
    {
     "data": {
      "text/plain": [
       "(891, 12)"
      ]
     },
     "execution_count": 6,
     "metadata": {},
     "output_type": "execute_result"
    }
   ],
   "source": [
    "df.shape\n"
   ]
  },
  {
   "cell_type": "markdown",
   "metadata": {},
   "source": [
    "**Sütun isimleri, İndeksler Nelerdir?**\n"
   ]
  },
  {
   "cell_type": "code",
   "execution_count": 8,
   "metadata": {},
   "outputs": [
    {
     "data": {
      "text/plain": [
       "Index(['PassengerId', 'Survived', 'Pclass', 'Name', 'Sex', 'Age', 'SibSp',\n",
       "       'Parch', 'Ticket', 'Fare', 'Cabin', 'Embarked'],\n",
       "      dtype='object')"
      ]
     },
     "execution_count": 8,
     "metadata": {},
     "output_type": "execute_result"
    }
   ],
   "source": [
    "df.columns\n"
   ]
  },
  {
   "cell_type": "code",
   "execution_count": 9,
   "metadata": {},
   "outputs": [
    {
     "data": {
      "text/plain": [
       "RangeIndex(start=0, stop=891, step=1)"
      ]
     },
     "execution_count": 9,
     "metadata": {},
     "output_type": "execute_result"
    }
   ],
   "source": [
    "df.index"
   ]
  },
  {
   "cell_type": "markdown",
   "metadata": {},
   "source": [
    "**Bir sütundaki veriler hakkında nasıl bilgi alınır?**"
   ]
  },
  {
   "cell_type": "code",
   "execution_count": 10,
   "metadata": {},
   "outputs": [
    {
     "data": {
      "text/plain": [
       "Sex\n",
       "male      577\n",
       "female    314\n",
       "Name: count, dtype: int64"
      ]
     },
     "execution_count": 10,
     "metadata": {},
     "output_type": "execute_result"
    }
   ],
   "source": [
    "df.Sex.value_counts()\n",
    "df[\"Sex\"].value_counts()"
   ]
  },
  {
   "cell_type": "markdown",
   "metadata": {},
   "source": [
    "**Temel istatistikler hakkında bilgi almak için**"
   ]
  },
  {
   "cell_type": "code",
   "execution_count": 11,
   "metadata": {},
   "outputs": [
    {
     "data": {
      "text/html": [
       "<div>\n",
       "<style scoped>\n",
       "    .dataframe tbody tr th:only-of-type {\n",
       "        vertical-align: middle;\n",
       "    }\n",
       "\n",
       "    .dataframe tbody tr th {\n",
       "        vertical-align: top;\n",
       "    }\n",
       "\n",
       "    .dataframe thead th {\n",
       "        text-align: right;\n",
       "    }\n",
       "</style>\n",
       "<table border=\"1\" class=\"dataframe\">\n",
       "  <thead>\n",
       "    <tr style=\"text-align: right;\">\n",
       "      <th></th>\n",
       "      <th>PassengerId</th>\n",
       "      <th>Survived</th>\n",
       "      <th>Pclass</th>\n",
       "      <th>Age</th>\n",
       "      <th>SibSp</th>\n",
       "      <th>Parch</th>\n",
       "      <th>Fare</th>\n",
       "    </tr>\n",
       "  </thead>\n",
       "  <tbody>\n",
       "    <tr>\n",
       "      <th>count</th>\n",
       "      <td>891.000000</td>\n",
       "      <td>891.000000</td>\n",
       "      <td>891.000000</td>\n",
       "      <td>714.000000</td>\n",
       "      <td>891.000000</td>\n",
       "      <td>891.000000</td>\n",
       "      <td>891.000000</td>\n",
       "    </tr>\n",
       "    <tr>\n",
       "      <th>mean</th>\n",
       "      <td>446.000000</td>\n",
       "      <td>0.383838</td>\n",
       "      <td>2.308642</td>\n",
       "      <td>29.699118</td>\n",
       "      <td>0.523008</td>\n",
       "      <td>0.381594</td>\n",
       "      <td>32.204208</td>\n",
       "    </tr>\n",
       "    <tr>\n",
       "      <th>std</th>\n",
       "      <td>257.353842</td>\n",
       "      <td>0.486592</td>\n",
       "      <td>0.836071</td>\n",
       "      <td>14.526497</td>\n",
       "      <td>1.102743</td>\n",
       "      <td>0.806057</td>\n",
       "      <td>49.693429</td>\n",
       "    </tr>\n",
       "    <tr>\n",
       "      <th>min</th>\n",
       "      <td>1.000000</td>\n",
       "      <td>0.000000</td>\n",
       "      <td>1.000000</td>\n",
       "      <td>0.420000</td>\n",
       "      <td>0.000000</td>\n",
       "      <td>0.000000</td>\n",
       "      <td>0.000000</td>\n",
       "    </tr>\n",
       "    <tr>\n",
       "      <th>25%</th>\n",
       "      <td>223.500000</td>\n",
       "      <td>0.000000</td>\n",
       "      <td>2.000000</td>\n",
       "      <td>20.125000</td>\n",
       "      <td>0.000000</td>\n",
       "      <td>0.000000</td>\n",
       "      <td>7.910400</td>\n",
       "    </tr>\n",
       "    <tr>\n",
       "      <th>50%</th>\n",
       "      <td>446.000000</td>\n",
       "      <td>0.000000</td>\n",
       "      <td>3.000000</td>\n",
       "      <td>28.000000</td>\n",
       "      <td>0.000000</td>\n",
       "      <td>0.000000</td>\n",
       "      <td>14.454200</td>\n",
       "    </tr>\n",
       "    <tr>\n",
       "      <th>75%</th>\n",
       "      <td>668.500000</td>\n",
       "      <td>1.000000</td>\n",
       "      <td>3.000000</td>\n",
       "      <td>38.000000</td>\n",
       "      <td>1.000000</td>\n",
       "      <td>0.000000</td>\n",
       "      <td>31.000000</td>\n",
       "    </tr>\n",
       "    <tr>\n",
       "      <th>max</th>\n",
       "      <td>891.000000</td>\n",
       "      <td>1.000000</td>\n",
       "      <td>3.000000</td>\n",
       "      <td>80.000000</td>\n",
       "      <td>8.000000</td>\n",
       "      <td>6.000000</td>\n",
       "      <td>512.329200</td>\n",
       "    </tr>\n",
       "  </tbody>\n",
       "</table>\n",
       "</div>"
      ],
      "text/plain": [
       "       PassengerId    Survived      Pclass         Age       SibSp  \\\n",
       "count   891.000000  891.000000  891.000000  714.000000  891.000000   \n",
       "mean    446.000000    0.383838    2.308642   29.699118    0.523008   \n",
       "std     257.353842    0.486592    0.836071   14.526497    1.102743   \n",
       "min       1.000000    0.000000    1.000000    0.420000    0.000000   \n",
       "25%     223.500000    0.000000    2.000000   20.125000    0.000000   \n",
       "50%     446.000000    0.000000    3.000000   28.000000    0.000000   \n",
       "75%     668.500000    1.000000    3.000000   38.000000    1.000000   \n",
       "max     891.000000    1.000000    3.000000   80.000000    8.000000   \n",
       "\n",
       "            Parch        Fare  \n",
       "count  891.000000  891.000000  \n",
       "mean     0.381594   32.204208  \n",
       "std      0.806057   49.693429  \n",
       "min      0.000000    0.000000  \n",
       "25%      0.000000    7.910400  \n",
       "50%      0.000000   14.454200  \n",
       "75%      0.000000   31.000000  \n",
       "max      6.000000  512.329200  "
      ]
     },
     "execution_count": 11,
     "metadata": {},
     "output_type": "execute_result"
    }
   ],
   "source": [
    "df.describe()\n"
   ]
  },
  {
   "cell_type": "markdown",
   "metadata": {},
   "source": [
    "**Boş df oluşturmak ve doldurmak için**\n"
   ]
  },
  {
   "cell_type": "code",
   "execution_count": 38,
   "metadata": {},
   "outputs": [],
   "source": [
    "students={'Name':['A','B','C'],'Age':[24,18,17],'Roll':[1,2,3]}\n",
    "df1 = pd.DataFrame(students)\n",
    "df2 = pd.DataFrame(students).reset_index(drop=True)\n"
   ]
  },
  {
   "cell_type": "markdown",
   "metadata": {},
   "source": [
    "**=>!Drop =False deseydik df1 düzgün bir şekilde oluşurken , df2 2 satır halinde oluşur.!**\n",
    "<br>\n",
    "**=>df2 DataFrame’inde eski indeks sütunu korunur ve yeni bir sütun olarak DataFrame’e eklenirdi.**"
   ]
  },
  {
   "cell_type": "code",
   "execution_count": 39,
   "metadata": {},
   "outputs": [],
   "source": [
    "students={'Name':['A','B','C'],'Age':[24,18,17],'Roll':[1,2,3]}\n",
    "df1 = pd.DataFrame(students)\n",
    "df2 = pd.DataFrame(students).reset_index(drop=False)"
   ]
  },
  {
   "cell_type": "markdown",
   "metadata": {},
   "source": [
    "\n",
    "**Drop=false yapılsaydı df2'nin görünümü aşağıdaki gibi olurdu**"
   ]
  },
  {
   "cell_type": "code",
   "execution_count": null,
   "metadata": {},
   "outputs": [],
   "source": [
    "\"\"\"\n",
    "   index Name  Age  Roll\n",
    "0      0    A   24     1\n",
    "1      1    B   18     2\n",
    "2      2    C   17     3\n",
    "\"\"\""
   ]
  },
  {
   "cell_type": "markdown",
   "metadata": {},
   "source": [
    "**Null verileri görüntülemek için isnull;**\n",
    "**Toplam null verilerini ise Sum yazınca   gösterir**\n",
    "<br>\n",
    "**df.isnull() ile cabin sayısını gösterirken**\n",
    "<br>\n",
    "**df.isnull().sum() ise eksik değerlerin toplam sayısını verir.**"
   ]
  },
  {
   "cell_type": "code",
   "execution_count": 11,
   "metadata": {},
   "outputs": [
    {
     "data": {
      "text/plain": [
       "PassengerId      0\n",
       "Survived         0\n",
       "Pclass           0\n",
       "Name             0\n",
       "Sex              0\n",
       "Age            177\n",
       "SibSp            0\n",
       "Parch            0\n",
       "Ticket           0\n",
       "Fare             0\n",
       "Cabin          687\n",
       "Embarked         2\n",
       "dtype: int64"
      ]
     },
     "execution_count": 11,
     "metadata": {},
     "output_type": "execute_result"
    }
   ],
   "source": [
    "df.isnull().sum()\n"
   ]
  },
  {
   "cell_type": "markdown",
   "metadata": {},
   "source": [
    "#Null verileri doldurmak için fillna kullanılır.\n"
   ]
  },
  {
   "cell_type": "code",
   "execution_count": 40,
   "metadata": {},
   "outputs": [
    {
     "name": "stderr",
     "output_type": "stream",
     "text": [
      "C:\\Users\\melisa\\AppData\\Local\\Temp\\ipykernel_14868\\609039496.py:1: FutureWarning: A value is trying to be set on a copy of a DataFrame or Series through chained assignment using an inplace method.\n",
      "The behavior will change in pandas 3.0. This inplace method will never work because the intermediate object on which we are setting values always behaves as a copy.\n",
      "\n",
      "For example, when doing 'df[col].method(value, inplace=True)', try using 'df.method({col: value}, inplace=True)' or df[col] = df[col].method(value) instead, to perform the operation inplace on the original object.\n",
      "\n",
      "\n",
      "  df['Age'].fillna(df['Age'].mean(),inplace=True)\n"
     ]
    }
   ],
   "source": [
    "df['Age'].fillna(df['Age'].mean(),inplace=True)\n",
    "# yazınca hata verecektir.Yukarıdaki işlemlerde DataFrame'de filtreleme yapılmıştır.\n",
    "# Filtrelenmiş DataFrame üzerinde değişiklik yapmaya çalıştığımızda, aslında orijinal DataFrame’in bir kopyası \n",
    "# üzerinde çalışıyoruzdur ve bu kopya üzerinde yapılan değişiklikler orijinal DataFrame’e yansımaz."
   ]
  },
  {
   "cell_type": "code",
   "execution_count": 41,
   "metadata": {},
   "outputs": [],
   "source": [
    "#düzeltilmiş hali aşağıdaki gibidir. ‘Age’ sütunundaki eksik değerlerin yerine o sütunun ortalaması yazılır.Orijinal 'Age' sütununa atama yapar.\n",
    "df.fillna({'Age': df['Age'].mean()}, inplace=True)"
   ]
  },
  {
   "cell_type": "code",
   "execution_count": 42,
   "metadata": {},
   "outputs": [
    {
     "ename": "NameError",
     "evalue": "name 'Fillna' is not defined",
     "output_type": "error",
     "traceback": [
      "\u001b[1;31m---------------------------------------------------------------------------\u001b[0m",
      "\u001b[1;31mNameError\u001b[0m                                 Traceback (most recent call last)",
      "Cell \u001b[1;32mIn[42], line 1\u001b[0m\n\u001b[1;32m----> 1\u001b[0m \u001b[43mFillna\u001b[49m(\u001b[38;5;241m0\u001b[39m,inplace\u001b[38;5;241m=\u001b[39mtrue)\n\u001b[0;32m      2\u001b[0m \u001b[38;5;66;03m#DataFrame içindeki tüm NaN (eksik değerleri) sıfır (0) ile doldurur ve inplace=True parametresi sayesinde bu değişikliği orijinal DataFrame üzerinde yerinde yapar.\u001b[39;00m\n\u001b[0;32m      3\u001b[0m \u001b[38;5;66;03m#Yazarsak veri setinde integer türünde olan yas seçeneği float olur.Bunu düzeltmek için veri türünü integer'a çevirip yazdırırız.\u001b[39;00m\n",
      "\u001b[1;31mNameError\u001b[0m: name 'Fillna' is not defined"
     ]
    }
   ],
   "source": [
    "Fillna(0,inplace=true)\n",
    "#DataFrame içindeki tüm NaN (eksik değerleri) sıfır (0) ile doldurur ve inplace=True parametresi sayesinde bu değişikliği orijinal DataFrame üzerinde yerinde yapar.\n",
    "#Yazarsak veri setinde integer türünde olan yas seçeneği float olur.Bunu düzeltmek için veri türünü integer'a çevirip yazdırırız."
   ]
  },
  {
   "cell_type": "markdown",
   "metadata": {},
   "source": [
    "Aşağıdaki kod DataFrame’indeki ‘Sex’ sütunundaki verileri sayısal değerlere dönüştürmek için kullanılıyor. Özellikle, ‘male’ değerlerini ‘0’ olarak ve ‘female’ değerlerini ‘1’ olarak eşleştiriyor."
   ]
  },
  {
   "cell_type": "code",
   "execution_count": 23,
   "metadata": {},
   "outputs": [],
   "source": [
    "df['Sex']=df['Sex'].map({\"male\":'0',\"female\":\"1\"})\n"
   ]
  },
  {
   "cell_type": "markdown",
   "metadata": {},
   "source": [
    "**Herhangi bir verinin çıktısını almak istediğimizde describe yok ise lambda ile fonksiyon yazarız.Buna modify denir.Aynı zamanda **manipüle etmek** de denir**"
   ]
  },
  {
   "cell_type": "code",
   "execution_count": null,
   "metadata": {},
   "outputs": [],
   "source": [
    "#‘Name’ sütunundaki her değeri virgülle ayırır ve ayırma işleminden sonra elde edilen \n",
    "# ilk öğeyi (genellikle soyadı) alır ve ‘last_name’ adında yeni bir sütuna kaydeder.\n",
    "df['last_name']=df['Name'].apply(lambda x: x.split(',')[0])\n"
   ]
  },
  {
   "cell_type": "code",
   "execution_count": null,
   "metadata": {},
   "outputs": [],
   "source": [
    "#‘Name’ sütunundaki her değeri virgülle ayırır ve ayırma işleminden sonra elde edilen ikinci ve sonraki\n",
    "# öğeleri (genellikle ilk isim veya isimler) alır ve bunları birleştirerek ‘first_name’ adında yeni bir sütuna kaydeder. \n",
    "df['first_name']=df['Name'].apply(lambda x: ' '.join(x.split(',')[1:]))"
   ]
  },
  {
   "cell_type": "code",
   "execution_count": null,
   "metadata": {},
   "outputs": [],
   "source": [
    "#her satır (row) için aşağıdaki iki koşulu kontrol eder:\n",
    "# row['Pclass']==3: ‘Pclass’ sütununun değeri 3’e eşit mi?\n",
    "# row['Sex']==\"0\": ‘Sex’ sütununun değeri ‘0’ mı? \n",
    "# Eğer her iki koşul da doğruysa, lambda fonksiyonu True döner ve int() fonksiyonu ile bu True değeri 1’e dönüştürülür.\n",
    "df['Thrid&Men']=df.apply(lambda row: int(row['Pclass']==3 and row['Sex']==\"0\"),axis=1)"
   ]
  },
  {
   "cell_type": "code",
   "execution_count": null,
   "metadata": {},
   "outputs": [],
   "source": [
    "#Yeni sütun ilave etmek için metot yazıp parametre gönderilir\n",
    "def findAgeGroup(age):\n",
    "    if age<18:\n",
    "        return 1\n",
    "    elif age>=18 and age<40:\n",
    "        return 2\n",
    "    elif age>=40 and age<60:\n",
    "        return 3\n",
    "    else:\n",
    "        return 4\n",
    "#Age sütunundaki her değeri findAgeGroup adlı bir fonksiyona gönderir ve bu fonksiyonun döndürdüğü değerleri ‘Age_group’ adında yeni bir sütuna kaydeder.\n",
    "df['Age_group']=df['Age'].apply(lambda x: findAgeGroup(x))\n",
    "\n",
    "#Bunun sonucunda Age adında grup oluşturup 1 2 3 4 değerleri gönderir."
   ]
  },
  {
   "cell_type": "code",
   "execution_count": null,
   "metadata": {},
   "outputs": [],
   "source": [
    "#Aşağıdaki kod satırında df'e tekrardan atama yapılır ve DataFrame’inden ‘PassengerId’ sütununu kaldırır.\n",
    "# axis=1 parametresi, işlemin sütunlar üzerinde yapılacağını belirtir (aksi takdirde axis=0 varsayılan olarak satırlar üzerinde işlem yapar).\n",
    "df=df.drop(['PassengerId'],axis=1)\n"
   ]
  },
  {
   "cell_type": "code",
   "execution_count": null,
   "metadata": {},
   "outputs": [],
   "source": [
    "#Eğer inplace=True parametresi kullanılsaydı, df.drop(['PassengerId'], axis=1, inplace=True) kodu \n",
    "# DataFrame’den ‘PassengerId’ sütununu yerinde kaldırır ve değişiklikleri doğrudan orijinal df DataFrame’ine uygulardı. \n",
    "# Bu, df değişkenine yeniden atama yapmanıza gerek kalmadan, df’nin kendisini güncellerdi\n",
    "\n",
    "#df=df.drop(['PassengerId'],axis=1,inplace=True)"
   ]
  },
  {
   "cell_type": "code",
   "execution_count": 24,
   "metadata": {},
   "outputs": [],
   "source": [
    "\n",
    "#Yeniden isimlendirme yapılarak eski sütunların isimleri değiştirilir.Burada dictionary'den faydalandık.\n",
    "df=df.rename(columns={'Sex':'Gender','Name':'Full Name','last_name':'Surname','first_name':'Name'})"
   ]
  },
  {
   "cell_type": "code",
   "execution_count": null,
   "metadata": {},
   "outputs": [],
   "source": [
    "df_aged=df[(df['Age']>60) & (df['Gender']==\"1\")]\n",
    "#Yukarıdaki satırda yaşları 60’tan büyük olan ve ‘Gender’ sütunu ‘1’ olan (yani kadın olan) yolcuları seçer  bu filtrelenmiş\n",
    "# verileri df_aged adlı yeni bir DataFrame’e atar\n"
   ]
  },
  {
   "cell_type": "code",
   "execution_count": 26,
   "metadata": {},
   "outputs": [],
   "source": [
    "#df üzerinden yeni df oluşturabiliriz.Belki bütün sütunları kullanmayabiliriz ama korealasyon bakarken yardım olacaktır\n",
    "df1=df[['Age','Pclass','Gender']]\n",
    "#DataFrame'nden yalnızca ‘Age’, ‘Pclass’ ve ‘Gender’ sütunlarını içeren yeni bir DataFrame oluşturur ve bunu df1 adlı bir değişkene atar. "
   ]
  },
  {
   "cell_type": "markdown",
   "metadata": {},
   "source": [
    "**Slicing(bölme) işlemlerinde loc ve iloc kullanılır.Pandas kütüphanesine ait bir indeksleme yöntemidir.**\n",
    "**loc komutunu kullanırken satır ya da sütun adı söylerken iloc komutunda o satır veya sütunun numarasını belirtiriz.**\n",
    "****"
   ]
  },
  {
   "cell_type": "code",
   "execution_count": null,
   "metadata": {},
   "outputs": [],
   "source": [
    "df.loc[(df['Age']>50),['Gender','Age']]\n",
    "#DataFrame’indeki ‘Age’ sütunu 50’den büyük olan tüm satırları seçer ve yalnızca ‘Gender’ ve ‘Age’ sütunlarını içeren bir DataFrame döndürür.\n",
    "#Virgülden önceki kısım satır,sonraki de sütundur."
   ]
  },
  {
   "cell_type": "markdown",
   "metadata": {},
   "source": [
    "**Satır/Sütun silme**"
   ]
  },
  {
   "cell_type": "code",
   "execution_count": 31,
   "metadata": {},
   "outputs": [],
   "source": [
    "\n",
    "#drop metodu ile belirtilen indeksteki satırı veya sütunu DataFrame’den çıkarmak için kullanırız. \n",
    "# df.index[-1] ifadesi, DataFrame’in son satırının indeksini belirtir ve axis=0 parametresi, işlemin satırlar üzerinde yapılacağını gösterir.\n",
    "df=df.drop(df.index[-1],axis=0) \n"
   ]
  },
  {
   "cell_type": "code",
   "execution_count": null,
   "metadata": {},
   "outputs": [],
   "source": [
    "#Örnek bir kullanım görstermek gerekirse\n",
    "df = df.drop(\"Gender\", axis=1)\n",
    "#DataFrame'nden 'Gender' sütununu kaldırır. axis=1 parametresi, işlemin sütunlar üzerinde yapılacağını belirtir. "
   ]
  },
  {
   "cell_type": "code",
   "execution_count": null,
   "metadata": {},
   "outputs": [],
   "source": [
    "#Yukarıdaki örneği şu şekilde kullanırsak:\n",
    "\n",
    "df=df.drop(df.index[-1],axis=0) #1\n",
    "df=df.drop(\"Gender\",axis=1)     #2 \n",
    "#df = df.drop(columns=['Gender', 'Parch']) #3\n",
    "#del df.Gender                             #4\n",
    "\n",
    "#1 ve 2. satırda, veri çerçevesinden son satırı ve ‘Gender’ sütununu kaldırdık. \n",
    "# Ancak, üçüncü satırda ‘Gender’ sütununu tekrar kaldırmaya çalıştığımızda, bu sütun zaten kaldırılmıştır hata verir.\n",
    "#4.satırda bulunan \"del df.Gender\" hata verecektir çünkü ‘Gender’ sütunu önceki adımda zaten kaldırılmıştır\n"
   ]
  },
  {
   "cell_type": "markdown",
   "metadata": {},
   "source": [
    "**Sıralama işlemi**\n"
   ]
  },
  {
   "cell_type": "code",
   "execution_count": 35,
   "metadata": {},
   "outputs": [],
   "source": [
    "df=df.sort_values(by=['Age'],ascending=False)\n",
    "#‘Age’ sütununa göre azalan sırada (yani en yüksek yaştan en düşüğe doğru) sıralar."
   ]
  },
  {
   "cell_type": "markdown",
   "metadata": {},
   "source": [
    "**Gruplama**"
   ]
  },
  {
   "cell_type": "code",
   "execution_count": 37,
   "metadata": {},
   "outputs": [],
   "source": [
    "# Bunları pd.DataFrame() içine yazıp ;DataFrame'e çevirmek gereklidir .Data Frame'i ‘Pclass’ ve ‘Embarked’ sütunlarına göre gruplandırır.Önce Pclass'a daha sonra Embarked'a göre grupladı.\n",
    "groups=df.groupby(['Pclass', 'Embarked'])\n"
   ]
  },
  {
   "cell_type": "code",
   "execution_count": null,
   "metadata": {},
   "outputs": [],
   "source": [
    "#'Pclass' ve 'Embarked' sütunlarına göre data frame gruplandırır ve her gruptaki ‘Age’ sütununun ortalamasını hesaplar. \n",
    "df_grp2=df.groupby(['Pclass', 'Embarked']).agg({'Age':lambda x: np.mean(x)}) \n"
   ]
  },
  {
   "cell_type": "markdown",
   "metadata": {},
   "source": [
    "**---------------------------------------------------------------------------------------------------------------------------------------**"
   ]
  },
  {
   "cell_type": "markdown",
   "metadata": {},
   "source": [
    "**Age Sütununun Histogram Grafiğine Bakalım**"
   ]
  },
  {
   "cell_type": "code",
   "execution_count": 47,
   "metadata": {},
   "outputs": [
    {
     "data": {
      "image/png": "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",
      "text/plain": [
       "<Figure size 1000x600 with 1 Axes>"
      ]
     },
     "metadata": {},
     "output_type": "display_data"
    }
   ],
   "source": [
    "# Eksik 'Age' değerlerini içeren satırları kaldıralım.\n",
    "# Kaldırmamızın sebebi rrneğin, yaş ortalaması hesaplarken, eksik değerler bu ortalamanın yanıltıcı olmasına neden olabilir.\n",
    "df = df.dropna(subset=['Age'])\n",
    "\n",
    "# 'Age' sütununun histogramını çizmek istersek\n",
    "plt.figure(figsize=(10, 6))\n",
    "plt.hist(df['Age'], bins=30, color='red', edgecolor='black')\n",
    "plt.title('Yolcuların Yaş Dağılımı')\n",
    "plt.xlabel('Yaş')\n",
    "plt.ylabel('Yolcu Sayısı')\n",
    "plt.grid(True)\n",
    "plt.show()"
   ]
  },
  {
   "cell_type": "markdown",
   "metadata": {},
   "source": [
    "Bu grafik, yolcuların yaşlarının nasıl dağıldığını, yani hangi yaş gruplarının daha yaygın veya daha az yaygın olduğunu gösterir.<br>\n",
    "Belirli bir yaş aralığındaki yolcu sayısının fazla olması, o yaş grubunun veri setinde daha sık görüldüğünü gösterir."
   ]
  },
  {
   "cell_type": "markdown",
   "metadata": {},
   "source": [
    "**-------------------------------------------------------------------------------------------------------------------------**"
   ]
  },
  {
   "cell_type": "markdown",
   "metadata": {},
   "source": [
    "**Yolcuların Yaş Dağılımı - Kutu Grafiği**"
   ]
  },
  {
   "cell_type": "code",
   "execution_count": 49,
   "metadata": {},
   "outputs": [
    {
     "name": "stdout",
     "output_type": "stream",
     "text": [
      "0\n"
     ]
    },
    {
     "data": {
      "image/png": "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",
      "text/plain": [
       "<Figure size 1000x600 with 1 Axes>"
      ]
     },
     "metadata": {},
     "output_type": "display_data"
    }
   ],
   "source": [
    "# 'Age' sütunundaki eksik değerleri kontrol edelim\n",
    "print(df['Age'].isnull().sum())\n",
    "\n",
    "# Eksik 'Age' değerlerini içeren satırları kaldıralım\n",
    "df = df.dropna(subset=['Age'])\n",
    "\n",
    "# 'Age' sütununun kutu grafiğini çizelim\n",
    "plt.figure(figsize=(10, 6))\n",
    "plt.boxplot(df['Age'], vert=False)\n",
    "plt.title('Yolcuların Yaş Dağılımı - Kutu Grafiği')\n",
    "plt.xlabel('Yaş')\n",
    "plt.grid(True)\n",
    "plt.show()"
   ]
  },
  {
   "cell_type": "markdown",
   "metadata": {},
   "source": [
    "Yaş dağılımına başka bir grafik üzerinden bakmak gerekirse : \n",
    "<br>\n",
    "-Kutunun ortasındaki çizgi, yaş verilerinin medyanını gösterir.\n",
    "<br>\n",
    "-Kutunun dışında kalan noktalar, aykırı değerleri gösterir. \n",
    "<br>\n",
    "-Kutunun dışına çıkan çizgiler, aykırı olmayan en düşük ve en yüksek değerleri gösterir.\n"
   ]
  },
  {
   "cell_type": "markdown",
   "metadata": {},
   "source": [
    "**-------------------------------------------------------------------------------------------------------------------------**"
   ]
  },
  {
   "cell_type": "code",
   "execution_count": 52,
   "metadata": {},
   "outputs": [
    {
     "name": "stdout",
     "output_type": "stream",
     "text": [
      "Missing values in 'Sex' column: 0\n"
     ]
    },
    {
     "data": {
      "image/png": "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",
      "text/plain": [
       "<Figure size 800x800 with 1 Axes>"
      ]
     },
     "metadata": {},
     "output_type": "display_data"
    }
   ],
   "source": [
    "#Cinsiyet sütunundaki eksik değerleri hata yaratmaması için kontrol edelim.\n",
    "print(f\"Missing values in 'Sex' column: {df['Sex'].isnull().sum()}\")\n",
    "\n",
    "# Cinsiyet dağılımını hesaplayalım\n",
    "gender_counts = df['Sex'].value_counts()\n",
    "\n",
    "# Cinsiyet dağılımı için pasta grafiği oluşturalım\n",
    "plt.figure(figsize=(8, 8))\n",
    "plt.pie(gender_counts, labels=gender_counts.index, autopct='%1.1f%%', startangle=140)\n",
    "plt.title('Cinsiyet Dağılımı')\n",
    "plt.show()"
   ]
  },
  {
   "cell_type": "markdown",
   "metadata": {},
   "source": [
    "**-------------------------------------------------------------------------------------------------------------------------**"
   ]
  },
  {
   "cell_type": "code",
   "execution_count": 54,
   "metadata": {},
   "outputs": [
    {
     "data": {
      "image/png": "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",
      "text/plain": [
       "<Figure size 1000x600 with 1 Axes>"
      ]
     },
     "metadata": {},
     "output_type": "display_data"
    }
   ],
   "source": [
    "# Yolcu sınıfı dağılımını hesaplayalım\n",
    "class_counts = df['Pclass'].value_counts().sort_index()\n",
    "\n",
    "# Yolcu sınıfı dağılımı için çubuk grafiği oluşturalım\n",
    "plt.figure(figsize=(10, 6))\n",
    "plt.bar(class_counts.index.astype(str), class_counts.values, color=['blue', 'orange', 'green'])\n",
    "plt.title('Yolcu Sınıfı Dağılımı')\n",
    "plt.xlabel('Yolcu Sınıfı')\n",
    "plt.ylabel('Yolcu Sayısı')\n",
    "plt.xticks(class_counts.index.astype(str), ['1st Class', '2nd Class', '3rd Class'])\n",
    "plt.grid(axis='y')\n",
    "plt.show()"
   ]
  },
  {
   "cell_type": "markdown",
   "metadata": {},
   "source": [
    "Grafiğin her bir çubuğu, 1., 2. ve 3. sınıf bilet sahibi yolcu sayısını temsil eder. Yükseklikleri, her sınıftaki yolcu sayısının büyüklüğünü gösterir. "
   ]
  },
  {
   "cell_type": "markdown",
   "metadata": {},
   "source": [
    "**-------------------------------------------------------------------------------------------------------------------------**"
   ]
  },
  {
   "cell_type": "code",
   "execution_count": 55,
   "metadata": {},
   "outputs": [
    {
     "name": "stdout",
     "output_type": "stream",
     "text": [
      "Missing values in 'Fare' column: 0\n"
     ]
    },
    {
     "data": {
      "image/png": "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",
      "text/plain": [
       "<Figure size 1000x600 with 1 Axes>"
      ]
     },
     "metadata": {},
     "output_type": "display_data"
    }
   ],
   "source": [
    "# 'Fare' sütunundaki eksik değerleri kontrol edelim\n",
    "print(f\"Missing values in 'Fare' column: {df['Fare'].isnull().sum()}\")\n",
    "\n",
    "# Bilet fiyatı dağılımı için kutu grafiği oluşturalım\n",
    "plt.figure(figsize=(10, 6))\n",
    "plt.boxplot(df['Fare'], vert=False, showfliers=True)\n",
    "plt.title('Bilet fiyatı dağılımı')\n",
    "plt.xlabel('Fiyat')\n",
    "plt.grid(True)\n",
    "plt.show()"
   ]
  },
  {
   "cell_type": "markdown",
   "metadata": {},
   "source": [
    "-Kutunun ortasındaki çizgi, bilet fiyatlarının medyanını  gösterir.\n",
    "<br>\n",
    "-Kutunun dışında kalan noktalar, aykırı değerleri gösterir.Genellikle çok yüksek veya çok düşük bilet fiyatlarını temsil eder.\n",
    "<br>\n",
    "-Lüks kabinler için ne kadar yüksek fiyatlar ödendiği gösterilirken, diğer yolcuların daha ekonomik seçenekleri tercih ettiğini görülebilir.\n",
    "\n"
   ]
  },
  {
   "cell_type": "markdown",
   "metadata": {},
   "source": [
    "**-------------------------------------------------------------------------------------------------------------------------**"
   ]
  },
  {
   "cell_type": "code",
   "execution_count": 70,
   "metadata": {},
   "outputs": [
    {
     "data": {
      "image/png": "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",
      "text/plain": [
       "<Figure size 800x600 with 2 Axes>"
      ]
     },
     "metadata": {},
     "output_type": "display_data"
    }
   ],
   "source": [
    "# 'Embarked' ve 'Fare' sütunlarını filtrele ve eksik değerleri olan satırları çıkar\n",
    "df_filtered = df[['Embarked', 'Fare']].dropna()\n",
    "\n",
    "# 'Embarked' sütununu kategorik bir değişkene dönüştür\n",
    "df_filtered['Embarked'] = df_filtered['Embarked'].astype('category').cat.codes\n",
    "\n",
    "# Korelasyon matrisini hesapla\n",
    "correlation_matrix = df_filtered.corr()\n",
    "\n",
    "# Korelasyon matrisini görselleştir\n",
    "plt.figure(figsize=(8, 6))\n",
    "sns.heatmap(correlation_matrix, annot=True, cmap='coolwarm', fmt='.2f')\n",
    "plt.title('Embarked ve Fare Sütunları Arasındaki Korelasyon')\n",
    "plt.show()"
   ]
  },
  {
   "cell_type": "markdown",
   "metadata": {},
   "source": [
    "Embarked sütununu sayısal bir koda dönüştürdükten sonra, Fare sütunu ile arasındaki korelasyonu hesaplıyor. <br>\n",
    "Korelasyon katsayısı, iki değişken arasındaki ilişkinin yönünü ve derecesini gösterir. \n",
    "<br>Eğer korelasyon katsayısı +1’e yakınsa, aralarında güçlü pozitif bir ilişki vardır; eğer -1’e yakınsa, güçlü negatif bir ilişki vardır.<br>\n",
    "'Embarked' ve 'Fare' sütunları arasında düşük bir korelasyon olduğunu görebiliriz."
   ]
  }
 ],
 "metadata": {
  "kernelspec": {
   "display_name": "Python 3",
   "language": "python",
   "name": "python3"
  },
  "language_info": {
   "codemirror_mode": {
    "name": "ipython",
    "version": 3
   },
   "file_extension": ".py",
   "mimetype": "text/x-python",
   "name": "python",
   "nbconvert_exporter": "python",
   "pygments_lexer": "ipython3",
   "version": "3.12.1"
  }
 },
 "nbformat": 4,
 "nbformat_minor": 2
}
